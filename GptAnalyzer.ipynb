{
 "cells": [
  {
   "cell_type": "code",
   "execution_count": 47,
   "metadata": {},
   "outputs": [],
   "source": [
    "import openai\n",
    "import json\n",
    "import os"
   ]
  },
  {
   "cell_type": "code",
   "execution_count": 48,
   "metadata": {},
   "outputs": [],
   "source": [
    "client = openai.OpenAI(api_key = \"XXXXXXXXX\") #Put your own open ai api\n",
    "directory = 'data'\n",
    "model = 'gpt-4'\n"
   ]
  },
  {
   "cell_type": "code",
   "execution_count": 49,
   "metadata": {},
   "outputs": [],
   "source": [
    "def generatePrompt(filename):\n",
    "    with open(filename, 'r', encoding='utf-8') as file:\n",
    "        data = json.load(file)\n",
    "    data_str = json.dumps(data, ensure_ascii=False, indent=4)\n",
    "\n",
    "    splitPoint = len(data_str) // 2\n",
    "    gpt_user_prompt = (\"This is a json containing information of a faculty website,\"\n",
    "                    \"find out all names of faculty, their position,\"\n",
    "                    \"if there is a link connect to it, also include it. If no link, write Null\"\n",
    "                    \"Also, Only include unique names. Return in json format as well\"\n",
    "                    \"Don't return anything other than the json file\")\n",
    "    partOne = gpt_user_prompt + data_str[:splitPoint]\n",
    "    partTwo = gpt_user_prompt + data_str[splitPoint:]\n",
    "    return [partOne, partTwo]\n",
    "\n",
    "def getResponse(gpt_user_prompt):\n",
    "    message=[{\"role\": \"user\", \"content\": gpt_user_prompt}]\n",
    "    temperature=0.2\n",
    "    max_tokens=3600\n",
    "    frequency_penalty=0.0\n",
    "    response = client.chat.completions.create(\n",
    "        model=model,\n",
    "        messages = message,\n",
    "        stream=False,\n",
    "        temperature=temperature,\n",
    "        max_tokens=max_tokens,\n",
    "        frequency_penalty=frequency_penalty\n",
    "    )\n",
    "    return response.choices[0].message.content\n",
    "\n",
    "def saveData(filename, id, response):\n",
    "    newName = filename.replace('data/', 'result/')\n",
    "    newName = newName.replace('.json', str(id)+'.json')\n",
    "    newName = newName.replace('extracted', 'analyzed')\n",
    "    with open(newName, 'w', encoding='utf-8') as file:\n",
    "        file.write(response)\n",
    "        print(newName + ' successed')\n"
   ]
  },
  {
   "cell_type": "code",
   "execution_count": 51,
   "metadata": {},
   "outputs": [
    {
     "name": "stdout",
     "output_type": "stream",
     "text": [
      "result/analyzed_https:__geography.wisc.edu_people_faculty_0.json successed\n",
      "result/analyzed_https:__geography.wisc.edu_people_faculty_1.json successed\n",
      "result/analyzed_https:__geog.ufl.edu_faculty_0.json successed\n",
      "data/extracted_https:__geog.ufl.edu_faculty_.json failed\n"
     ]
    }
   ],
   "source": [
    "for filename in os.listdir(directory):\n",
    "    if filename.endswith(\".json\"):\n",
    "        try:\n",
    "            prompts = generatePrompt(os.path.join(directory, filename))\n",
    "            for i in range(len(prompts)):\n",
    "                response = getResponse(prompts[i])\n",
    "                saveData(os.path.join(directory, filename), i, response)\n",
    "        except:\n",
    "            print(os.path.join(directory, filename) + ' failed')"
   ]
  }
 ],
 "metadata": {
  "kernelspec": {
   "display_name": "d2l",
   "language": "python",
   "name": "python3"
  },
  "language_info": {
   "codemirror_mode": {
    "name": "ipython",
    "version": 3
   },
   "file_extension": ".py",
   "mimetype": "text/x-python",
   "name": "python",
   "nbconvert_exporter": "python",
   "pygments_lexer": "ipython3",
   "version": "3.9.18"
  }
 },
 "nbformat": 4,
 "nbformat_minor": 2
}

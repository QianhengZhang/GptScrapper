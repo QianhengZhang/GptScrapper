{
 "cells": [
  {
   "cell_type": "code",
   "execution_count": 1,
   "metadata": {},
   "outputs": [],
   "source": [
    "import requests\n",
    "from bs4 import BeautifulSoup\n",
    "import json\n",
    "# Run Scrapper first, then analyzer"
   ]
  },
  {
   "cell_type": "code",
   "execution_count": 15,
   "metadata": {},
   "outputs": [],
   "source": [
    "headers = {\n",
    "    'User-Agent': 'Mozilla/5.0 (Windows NT 10.0; Win64; x64) AppleWebKit/537.36 (KHTML, like Gecko) Chrome/58.0.3029.110 Safari/537.3'\n",
    "}\n",
    "\n",
    "links = ['https://geography.wisc.edu/people/faculty/', 'https://geog.ufl.edu/faculty/']# add more links"
   ]
  },
  {
   "cell_type": "code",
   "execution_count": 22,
   "metadata": {},
   "outputs": [],
   "source": [
    "\n",
    "\n",
    "def extract_text_and_links(soup, element):\n",
    "    # Initialize a list to hold text and links\n",
    "    content = []\n",
    "    for child in element.descendants:\n",
    "        if child.name == 'a':\n",
    "            href = child.get('href', '')\n",
    "            text = child.get_text(strip=True)\n",
    "            if text:  # If the link has text, append it with the URL\n",
    "                content.append({'text': text, 'url': href})\n",
    "        elif child.name is None:  # This is a NavigableString, not a tag\n",
    "            text = child.strip()\n",
    "            if text:  # If the string is not empty, append it\n",
    "                content.append({'text': text})\n",
    "    return content\n",
    "\n",
    "def categorize_content(url):\n",
    "    response = requests.get(url, headers=headers)\n",
    "    soup = BeautifulSoup(response.content, 'html.parser')\n",
    "    body = soup.find('body')\n",
    "\n",
    "    categorized_content = {}\n",
    "\n",
    "    for container in body.find_all(True, recursive=False):\n",
    "        container_name = container.name\n",
    "        if container_name not in categorized_content:\n",
    "            categorized_content[container_name] = []\n",
    "        for element in container.find_all(True, recursive=False):\n",
    "            element_name = element.name\n",
    "            element_content = extract_text_and_links(soup, element)\n",
    "            if element_content:  # Only add if there's content to add\n",
    "                categorized_content[container_name].append({element_name: element_content})\n",
    "\n",
    "    return categorized_content\n",
    "\n"
   ]
  },
  {
   "cell_type": "code",
   "execution_count": 24,
   "metadata": {},
   "outputs": [],
   "source": [
    "for url in links:\n",
    "    categorized_text = categorize_content(url)\n",
    "    json_data = json.dumps(categorized_text, ensure_ascii=False, indent=4)\n",
    "    filename = 'data/extracted_' + url.replace('/', '_') + '.json'\n",
    "    with open(filename, 'w', encoding='utf-8') as file:\n",
    "        file.write(json_data)\n",
    "\n"
   ]
  }
 ],
 "metadata": {
  "kernelspec": {
   "display_name": "d2l",
   "language": "python",
   "name": "python3"
  },
  "language_info": {
   "codemirror_mode": {
    "name": "ipython",
    "version": 3
   },
   "file_extension": ".py",
   "mimetype": "text/x-python",
   "name": "python",
   "nbconvert_exporter": "python",
   "pygments_lexer": "ipython3",
   "version": "3.9.18"
  }
 },
 "nbformat": 4,
 "nbformat_minor": 2
}
